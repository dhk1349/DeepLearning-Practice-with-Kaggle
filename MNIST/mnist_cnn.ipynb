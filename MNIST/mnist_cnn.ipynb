{
 "cells": [
  {
   "cell_type": "code",
   "execution_count": 1,
   "metadata": {},
   "outputs": [],
   "source": [
    "import pandas as pd\n",
    "from tensorflow.keras import models, layers\n",
    "import numpy as np"
   ]
  },
  {
   "cell_type": "code",
   "execution_count": 2,
   "metadata": {},
   "outputs": [],
   "source": [
    "def model():\n",
    "    model=models.Sequential()\n",
    "    \"\"\"\n",
    "    model.add(layers.Dense(512, activation='relu', input_shape=(784,)))\n",
    "    model.add(layers.Dense(512, activation='relu'))\n",
    "    model.add(layers.Dense(512, activation='relu'))\n",
    "    model.add(layers.Dense(512, activation='relu'))\n",
    "    model.add(layers.Dense(10, activation='softmax'))\n",
    "    model.compile(loss='categorical_crossentropy', optimizer='rmsprop', metrics=['accuracy'])\n",
    "    \"\"\"\n",
    "    model.add(layers.Conv2D(6,(5,5),strides=(1,1), padding='valid', input_shape=(28,28,1,)))\n",
    "    model.add(layers.MaxPooling2D(strides=2))\n",
    "    model.add(layers.Conv2D(16,(5,5),strides=1, padding='valid'))\n",
    "    model.add(layers.MaxPooling2D(strides=2))\n",
    "    model.add(layers.Flatten())\n",
    "    model.add(layers.Dense(84,input_shape=(256,),activation='relu'))\n",
    "    model.add(layers.Dense(10,input_shape=(84,),activation='softmax'))    \n",
    "    model.compile(loss='categorical_crossentropy', optimizer='rmsprop', metrics=['accuracy'])\n",
    "    model.summary()\n",
    "    return model"
   ]
  },
  {
   "cell_type": "code",
   "execution_count": 3,
   "metadata": {},
   "outputs": [
    {
     "name": "stdout",
     "output_type": "stream",
     "text": [
      "Model: \"sequential\"\n",
      "_________________________________________________________________\n",
      "Layer (type)                 Output Shape              Param #   \n",
      "=================================================================\n",
      "conv2d (Conv2D)              (None, 24, 24, 6)         156       \n",
      "_________________________________________________________________\n",
      "max_pooling2d (MaxPooling2D) (None, 12, 12, 6)         0         \n",
      "_________________________________________________________________\n",
      "conv2d_1 (Conv2D)            (None, 8, 8, 16)          2416      \n",
      "_________________________________________________________________\n",
      "max_pooling2d_1 (MaxPooling2 (None, 4, 4, 16)          0         \n",
      "_________________________________________________________________\n",
      "flatten (Flatten)            (None, 256)               0         \n",
      "_________________________________________________________________\n",
      "dense (Dense)                (None, 84)                21588     \n",
      "_________________________________________________________________\n",
      "dense_1 (Dense)              (None, 10)                850       \n",
      "=================================================================\n",
      "Total params: 25,010\n",
      "Trainable params: 25,010\n",
      "Non-trainable params: 0\n",
      "_________________________________________________________________\n",
      "Train on 40000 samples, validate on 2000 samples\n",
      "Epoch 1/15\n",
      "40000/40000 [==============================] - 9s 223us/sample - loss: 1.2869 - accuracy: 0.8658 - val_loss: 0.2615 - val_accuracy: 0.9405\n",
      "Epoch 2/15\n",
      "40000/40000 [==============================] - 8s 204us/sample - loss: 0.2229 - accuracy: 0.9492 - val_loss: 0.1789 - val_accuracy: 0.9460\n",
      "Epoch 3/15\n",
      "40000/40000 [==============================] - 8s 210us/sample - loss: 0.1696 - accuracy: 0.9607 - val_loss: 0.3071 - val_accuracy: 0.9325\n",
      "Epoch 4/15\n",
      "40000/40000 [==============================] - 8s 205us/sample - loss: 0.1390 - accuracy: 0.9684 - val_loss: 0.1869 - val_accuracy: 0.9590\n",
      "Epoch 5/15\n",
      "40000/40000 [==============================] - 8s 206us/sample - loss: 0.1195 - accuracy: 0.9750 - val_loss: 0.2550 - val_accuracy: 0.9595\n",
      "Epoch 6/15\n",
      "40000/40000 [==============================] - 8s 207us/sample - loss: 0.1150 - accuracy: 0.9760 - val_loss: 0.1690 - val_accuracy: 0.9685\n",
      "Epoch 7/15\n",
      "40000/40000 [==============================] - 8s 206us/sample - loss: 0.1100 - accuracy: 0.9783 - val_loss: 0.1396 - val_accuracy: 0.9700\n",
      "Epoch 8/15\n",
      "40000/40000 [==============================] - 8s 211us/sample - loss: 0.1032 - accuracy: 0.9801 - val_loss: 0.2944 - val_accuracy: 0.9600\n",
      "Epoch 9/15\n",
      "40000/40000 [==============================] - 8s 206us/sample - loss: 0.1048 - accuracy: 0.9805 - val_loss: 0.1533 - val_accuracy: 0.9725\n",
      "Epoch 10/15\n",
      "40000/40000 [==============================] - 8s 208us/sample - loss: 0.1022 - accuracy: 0.9823 - val_loss: 0.3241 - val_accuracy: 0.9495\n",
      "Epoch 11/15\n",
      "40000/40000 [==============================] - 8s 204us/sample - loss: 0.1053 - accuracy: 0.9828 - val_loss: 0.2815 - val_accuracy: 0.9705\n",
      "Epoch 12/15\n",
      "40000/40000 [==============================] - 8s 204us/sample - loss: 0.0955 - accuracy: 0.9847 - val_loss: 0.1446 - val_accuracy: 0.9850\n",
      "Epoch 13/15\n",
      "40000/40000 [==============================] - 8s 207us/sample - loss: 0.0982 - accuracy: 0.9857 - val_loss: 0.1707 - val_accuracy: 0.9830\n",
      "Epoch 14/15\n",
      "40000/40000 [==============================] - 8s 205us/sample - loss: 0.0990 - accuracy: 0.9862 - val_loss: 0.2042 - val_accuracy: 0.9785\n",
      "Epoch 15/15\n",
      "40000/40000 [==============================] - 8s 206us/sample - loss: 0.0985 - accuracy: 0.9871 - val_loss: 0.2662 - val_accuracy: 0.9770\n"
     ]
    },
    {
     "data": {
      "text/plain": [
       "<tensorflow.python.keras.callbacks.History at 0x1be8ac485c0>"
      ]
     },
     "execution_count": 3,
     "metadata": {},
     "output_type": "execute_result"
    }
   ],
   "source": [
    "train=pd.read_csv(\"train.csv\")\n",
    "test=pd.read_csv(\"test.csv\")\n",
    "y_train=train['label']\n",
    "x_train=train.drop(['label'], axis=1)\n",
    "\n",
    "x_train=np.array(x_train.values)\n",
    "x_train=np.array([i.reshape(28,28,1) for i in x_train])\n",
    "y_train=y_train.values #already numnp obj\n",
    "x_test=np.array(test.values)\n",
    "x_test=np.array([(i.reshape(28,28,1) for i in x_test])\n",
    "\n",
    "y_train_mod=np.array([[0,0,0,0,0,0,0,0,0,0]])\n",
    "\n",
    "for i in y_train:\n",
    "    tmp=np.array([[0,0,0,0,0,0,0,0,0,0]])\n",
    "    tmp[0][i]=1\n",
    "    y_train_mod=np.append(y_train_mod, tmp, axis=0)\n",
    "\n",
    "y_train_mod=np.delete(y_train_mod, 0,0)\n",
    "\n",
    "y_train_mod\n",
    "\n",
    "conv2dmodel=model()\n",
    "\n",
    "x_val=x_train[40000:]\n",
    "y_val=y_train_mod[40000:]\n",
    "x_train=x_train[:40000]\n",
    "y_train=y_train_mod[:40000]\n",
    "\n",
    "conv2dmodel.fit(x_train, y_train, epochs=15, validation_data=(x_val, y_val))"
   ]
  },
  {
   "cell_type": "code",
   "execution_count": 5,
   "metadata": {},
   "outputs": [],
   "source": [
    "prediction=conv2dmodel.predict(x_test.astype(float))"
   ]
  },
  {
   "cell_type": "code",
   "execution_count": 8,
   "metadata": {},
   "outputs": [
    {
     "data": {
      "text/plain": [
       "array([0., 0., 1., 0., 0., 0., 0., 0., 0., 0.], dtype=float32)"
      ]
     },
     "execution_count": 8,
     "metadata": {},
     "output_type": "execute_result"
    }
   ],
   "source": [
    "prediction[0]"
   ]
  },
  {
   "cell_type": "code",
   "execution_count": 9,
   "metadata": {},
   "outputs": [],
   "source": [
    "pd.DataFrame(prediction).to_csv(\"mysubmission.csv\")"
   ]
  }
 ],
 "metadata": {
  "kernelspec": {
   "display_name": "Python 3",
   "language": "python",
   "name": "python3"
  },
  "language_info": {
   "codemirror_mode": {
    "name": "ipython",
    "version": 3
   },
   "file_extension": ".py",
   "mimetype": "text/x-python",
   "name": "python",
   "nbconvert_exporter": "python",
   "pygments_lexer": "ipython3",
   "version": "3.7.3"
  }
 },
 "nbformat": 4,
 "nbformat_minor": 2
}
