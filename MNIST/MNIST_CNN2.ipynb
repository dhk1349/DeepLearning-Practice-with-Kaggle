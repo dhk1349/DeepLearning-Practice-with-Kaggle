{
 "cells": [
  {
   "cell_type": "code",
   "execution_count": 35,
   "metadata": {},
   "outputs": [],
   "source": [
    "import numpy as np\n",
    "import pandas as pd\n",
    "import tensorflow as tf\n",
    "from tensorflow.keras import backend as K\n",
    "from tensorflow.keras.layers import Input, Lambda, Conv2D, BatchNormalization, Flatten, Activation, MaxPooling2D, Dense\n",
    "from tensorflow.keras.models import load_model, Model\n",
    "from tensorflow.keras.initializers import glorot_uniform\n",
    "import matplotlib.pyplot as plt"
   ]
  },
  {
   "cell_type": "code",
   "execution_count": 40,
   "metadata": {},
   "outputs": [],
   "source": [
    "def CNN_lv2(input_shape=(28,28,1,)):\n",
    "    x_input=Input(input_shape)\n",
    "    \n",
    "    x=Conv2D(6,(5,5), strides=(1,1), padding='valid', name='conv1', kernel_initializer=glorot_uniform(seed=0))(x_input)\n",
    "    x=BatchNormalization(axis=3, name='bn_conv1')(x)\n",
    "    x=Activation('relu')(x)\n",
    "    x=MaxPooling2D((3,3), strides=(1,1))(x)\n",
    "    \n",
    "    x=Conv2D(32, (5,5), strides=(1,1), padding='valid', name='conv2', kernel_initializer=glorot_uniform(seed=0))(x)\n",
    "    x=BatchNormalization(axis=3, name='bn_conv2')(x)\n",
    "    x=Activation('relu')(x)\n",
    "    x=MaxPooling2D((3,3), strides=(1,1))(x)\n",
    "    \n",
    "    x=Flatten()(x)\n",
    "    x=Dense(10, activation='softmax', name='fc', kernel_initializer=glorot_uniform(seed=0))(x)\n",
    "    \n",
    "    model=Model(inputs=x_input, outputs=x, name='CNN_lv2')\n",
    "    return model"
   ]
  },
  {
   "cell_type": "code",
   "execution_count": 49,
   "metadata": {},
   "outputs": [],
   "source": [
    "def CNN_lv3(input_shape=(28,28,1,)):\n",
    "    x_input=Input(input_shape)\n",
    "    \n",
    "    x=Conv2D(6,(5,5), strides=(1,1), padding='valid', name='conv1', kernel_initializer=glorot_uniform(seed=0))(x_input)\n",
    "    x=BatchNormalization(axis=3, name='bn_conv1')(x)\n",
    "    x=Activation('relu')(x)\n",
    "    x=MaxPooling2D((3,3), strides=(1,1))(x)\n",
    "    \n",
    "    x=Conv2D(32, (5,5), strides=(1,1), padding='valid', name='conv2', kernel_initializer=glorot_uniform(seed=0))(x)\n",
    "    x=BatchNormalization(axis=3, name='bn_conv2')(x)\n",
    "    x=Activation('relu')(x)\n",
    "    x=MaxPooling2D((3,3), strides=(1,1))(x)\n",
    " \n",
    "    x=Conv2D(64, (5,5), strides=(1,1), padding='valid', name='conv3', kernel_initializer=glorot_uniform(seed=0))(x)\n",
    "    x=BatchNormalization(axis=3, name='bn_conv3')(x)\n",
    "    x=Activation('relu')(x)\n",
    "    x=MaxPooling2D((3,3), strides=(1,1))(x)\n",
    "\n",
    "    x=Flatten()(x)\n",
    "    x=Dense(10, activation='softmax', name='fc', kernel_initializer=glorot_uniform(seed=0))(x)\n",
    "    \n",
    "    model=Model(inputs=x_input, outputs=x, name='CNN_lv2')\n",
    "    return model"
   ]
  },
  {
   "cell_type": "code",
   "execution_count": 55,
   "metadata": {},
   "outputs": [],
   "source": [
    "def CNN_lv3_2(input_shape=(28,28,1,)):\n",
    "    x_input=Input(input_shape)\n",
    "    \n",
    "    x=Conv2D(12,(5,5), strides=(1,1), padding='valid', name='conv1', kernel_initializer=glorot_uniform(seed=0))(x_input)\n",
    "    x=BatchNormalization(axis=3, name='bn_conv1')(x)\n",
    "    x=Activation('relu')(x)\n",
    "    x=MaxPooling2D((3,3), strides=(1,1))(x)\n",
    "    \n",
    "    x=Conv2D(32, (5,5), strides=(1,1), padding='valid', name='conv2', kernel_initializer=glorot_uniform(seed=0))(x)\n",
    "    x=BatchNormalization(axis=3, name='bn_conv2')(x)\n",
    "    x=Activation('relu')(x)\n",
    "    x=MaxPooling2D((3,3), strides=(1,1))(x)\n",
    " \n",
    "    x=Conv2D(64, (5,5), strides=(1,1), padding='valid', name='conv3', kernel_initializer=glorot_uniform(seed=0))(x)\n",
    "    x=BatchNormalization(axis=3, name='bn_conv3')(x)\n",
    "    x=Activation('relu')(x)\n",
    "    x=MaxPooling2D((3,3), strides=(1,1))(x)\n",
    "\n",
    "    x=Flatten()(x)\n",
    "    x=Dense(10, activation='softmax', name='fc', kernel_initializer=glorot_uniform(seed=0))(x)\n",
    "    \n",
    "    model=Model(inputs=x_input, outputs=x, name='CNN_lv2')\n",
    "    return model"
   ]
  },
  {
   "cell_type": "code",
   "execution_count": 28,
   "metadata": {},
   "outputs": [],
   "source": [
    "train=pd.read_csv(\"train.csv\")\n",
    "test=pd.read_csv(\"test.csv\")\n",
    "y_train=train['label']\n",
    "x_train=train.drop(['label'], axis=1)\n",
    "\n",
    "x_train=np.array(x_train.values)\n",
    "x_train=np.array([i.reshape(28,28,1) for i in x_train])\n",
    "y_train=y_train.values #already numnp obj\n",
    "x_test=np.array(test.values)\n",
    "x_test=np.array([i.reshape(28,28,1) for i in x_test])\n",
    "                 \n",
    "y_train_mod=np.array([[0,0,0,0,0,0,0,0,0,0]])\n",
    "\n",
    "for i in y_train:\n",
    "    tmp=np.array([[0,0,0,0,0,0,0,0,0,0]])\n",
    "    tmp[0][i]=1\n",
    "    y_train_mod=np.append(y_train_mod, tmp, axis=0)\n",
    "\n",
    "y_train_mod=np.delete(y_train_mod, 0,0)\n",
    "\n",
    "y_train_mod\n",
    "\n",
    "x_val=x_train[40000:]\n",
    "y_val=y_train_mod[40000:]\n",
    "x_train=x_train[:40000]\n",
    "y_train=y_train_mod[:40000]"
   ]
  },
  {
   "cell_type": "code",
   "execution_count": 29,
   "metadata": {},
   "outputs": [
    {
     "data": {
      "text/plain": [
       "array([0, 1, 0, 0, 0, 0, 0, 0, 0, 0])"
      ]
     },
     "execution_count": 29,
     "metadata": {},
     "output_type": "execute_result"
    }
   ],
   "source": [
    "y_train_mod[0]"
   ]
  },
  {
   "cell_type": "code",
   "execution_count": 30,
   "metadata": {},
   "outputs": [
    {
     "data": {
      "text/plain": [
       "<matplotlib.image.AxesImage at 0x25d24de1f98>"
      ]
     },
     "execution_count": 30,
     "metadata": {},
     "output_type": "execute_result"
    },
    {
     "data": {
      "image/png": "[encoded data removed]",
      "text/plain": [
       "<Figure size 432x288 with 1 Axes>"
      ]
     },
     "metadata": {
      "needs_background": "light"
     },
     "output_type": "display_data"
    }
   ],
   "source": [
    "plt.imshow(x_train[0].reshape(28,28))"
   ]
  },
  {
   "cell_type": "code",
   "execution_count": 41,
   "metadata": {},
   "outputs": [
    {
     "name": "stdout",
     "output_type": "stream",
     "text": [
      "Model: \"CNN_lv2\"\n",
      "_________________________________________________________________\n",
      "Layer (type)                 Output Shape              Param #   \n",
      "=================================================================\n",
      "input_7 (InputLayer)         [(None, 28, 28, 1)]       0         \n",
      "_________________________________________________________________\n",
      "conv1 (Conv2D)               (None, 24, 24, 6)         156       \n",
      "_________________________________________________________________\n",
      "bn_conv1 (BatchNormalization (None, 24, 24, 6)         24        \n",
      "_________________________________________________________________\n",
      "activation_6 (Activation)    (None, 24, 24, 6)         0         \n",
      "_________________________________________________________________\n",
      "max_pooling2d_6 (MaxPooling2 (None, 22, 22, 6)         0         \n",
      "_________________________________________________________________\n",
      "conv2 (Conv2D)               (None, 18, 18, 32)        4832      \n",
      "_________________________________________________________________\n",
      "bn_conv2 (BatchNormalization (None, 18, 18, 32)        128       \n",
      "_________________________________________________________________\n",
      "activation_7 (Activation)    (None, 18, 18, 32)        0         \n",
      "_________________________________________________________________\n",
      "max_pooling2d_7 (MaxPooling2 (None, 16, 16, 32)        0         \n",
      "_________________________________________________________________\n",
      "flatten_3 (Flatten)          (None, 8192)              0         \n",
      "_________________________________________________________________\n",
      "fc (Dense)                   (None, 10)                81930     \n",
      "=================================================================\n",
      "Total params: 87,070\n",
      "Trainable params: 86,994\n",
      "Non-trainable params: 76\n",
      "_________________________________________________________________\n"
     ]
    }
   ],
   "source": [
    "model=CNN_lv2()\n",
    "model.compile(optimizer='adam', loss='categorical_crossentropy', metrics=['accuracy'])\n",
    "model.summary()"
   ]
  },
  {
   "cell_type": "code",
   "execution_count": 50,
   "metadata": {},
   "outputs": [
    {
     "name": "stdout",
     "output_type": "stream",
     "text": [
      "Model: \"CNN_lv2\"\n",
      "_________________________________________________________________\n",
      "Layer (type)                 Output Shape              Param #   \n",
      "=================================================================\n",
      "input_8 (InputLayer)         [(None, 28, 28, 1)]       0         \n",
      "_________________________________________________________________\n",
      "conv1 (Conv2D)               (None, 24, 24, 6)         156       \n",
      "_________________________________________________________________\n",
      "bn_conv1 (BatchNormalization (None, 24, 24, 6)         24        \n",
      "_________________________________________________________________\n",
      "activation_8 (Activation)    (None, 24, 24, 6)         0         \n",
      "_________________________________________________________________\n",
      "max_pooling2d_8 (MaxPooling2 (None, 22, 22, 6)         0         \n",
      "_________________________________________________________________\n",
      "conv2 (Conv2D)               (None, 18, 18, 32)        4832      \n",
      "_________________________________________________________________\n",
      "bn_conv2 (BatchNormalization (None, 18, 18, 32)        128       \n",
      "_________________________________________________________________\n",
      "activation_9 (Activation)    (None, 18, 18, 32)        0         \n",
      "_________________________________________________________________\n",
      "max_pooling2d_9 (MaxPooling2 (None, 16, 16, 32)        0         \n",
      "_________________________________________________________________\n",
      "conv3 (Conv2D)               (None, 12, 12, 64)        51264     \n",
      "_________________________________________________________________\n",
      "bn_conv3 (BatchNormalization (None, 12, 12, 64)        256       \n",
      "_________________________________________________________________\n",
      "activation_10 (Activation)   (None, 12, 12, 64)        0         \n",
      "_________________________________________________________________\n",
      "max_pooling2d_10 (MaxPooling (None, 10, 10, 64)        0         \n",
      "_________________________________________________________________\n",
      "flatten_4 (Flatten)          (None, 6400)              0         \n",
      "_________________________________________________________________\n",
      "fc (Dense)                   (None, 10)                64010     \n",
      "=================================================================\n",
      "Total params: 120,670\n",
      "Trainable params: 120,466\n",
      "Non-trainable params: 204\n",
      "_________________________________________________________________\n"
     ]
    }
   ],
   "source": [
    "model2=CNN_lv3()\n",
    "model2.compile(optimizer='adam', loss='categorical_crossentropy', metrics=['accuracy'])\n",
    "model2.summary()"
   ]
  },
  {
   "cell_type": "code",
   "execution_count": 56,
   "metadata": {},
   "outputs": [
    {
     "name": "stdout",
     "output_type": "stream",
     "text": [
      "Model: \"CNN_lv2\"\n",
      "_________________________________________________________________\n",
      "Layer (type)                 Output Shape              Param #   \n",
      "=================================================================\n",
      "input_9 (InputLayer)         [(None, 28, 28, 1)]       0         \n",
      "_________________________________________________________________\n",
      "conv1 (Conv2D)               (None, 24, 24, 12)        312       \n",
      "_________________________________________________________________\n",
      "bn_conv1 (BatchNormalization (None, 24, 24, 12)        48        \n",
      "_________________________________________________________________\n",
      "activation_11 (Activation)   (None, 24, 24, 12)        0         \n",
      "_________________________________________________________________\n",
      "max_pooling2d_11 (MaxPooling (None, 22, 22, 12)        0         \n",
      "_________________________________________________________________\n",
      "conv2 (Conv2D)               (None, 18, 18, 32)        9632      \n",
      "_________________________________________________________________\n",
      "bn_conv2 (BatchNormalization (None, 18, 18, 32)        128       \n",
      "_________________________________________________________________\n",
      "activation_12 (Activation)   (None, 18, 18, 32)        0         \n",
      "_________________________________________________________________\n",
      "max_pooling2d_12 (MaxPooling (None, 16, 16, 32)        0         \n",
      "_________________________________________________________________\n",
      "conv3 (Conv2D)               (None, 12, 12, 64)        51264     \n",
      "_________________________________________________________________\n",
      "bn_conv3 (BatchNormalization (None, 12, 12, 64)        256       \n",
      "_________________________________________________________________\n",
      "activation_13 (Activation)   (None, 12, 12, 64)        0         \n",
      "_________________________________________________________________\n",
      "max_pooling2d_13 (MaxPooling (None, 10, 10, 64)        0         \n",
      "_________________________________________________________________\n",
      "flatten_5 (Flatten)          (None, 6400)              0         \n",
      "_________________________________________________________________\n",
      "fc (Dense)                   (None, 10)                64010     \n",
      "=================================================================\n",
      "Total params: 125,650\n",
      "Trainable params: 125,434\n",
      "Non-trainable params: 216\n",
      "_________________________________________________________________\n"
     ]
    }
   ],
   "source": [
    "model3=CNN_lv3_2()\n",
    "model3.compile(optimizer='adam', loss='categorical_crossentropy', metrics=['accuracy'])\n",
    "model3.summary()"
   ]
  },
  {
   "cell_type": "code",
   "execution_count": 42,
   "metadata": {},
   "outputs": [
    {
     "name": "stdout",
     "output_type": "stream",
     "text": [
      "Train on 40000 samples, validate on 2000 samples\n",
      "Epoch 1/15\n",
      "40000/40000 [==============================] - 25s 631us/sample - loss: 0.2175 - accuracy: 0.9419 - val_loss: 0.1107 - val_accuracy: 0.9725\n",
      "Epoch 2/15\n",
      "40000/40000 [==============================] - 25s 613us/sample - loss: 0.0908 - accuracy: 0.9755 - val_loss: 0.1305 - val_accuracy: 0.9670\n",
      "Epoch 3/15\n",
      "40000/40000 [==============================] - 24s 603us/sample - loss: 0.0686 - accuracy: 0.9812 - val_loss: 0.2062 - val_accuracy: 0.9425\n",
      "Epoch 4/15\n",
      "40000/40000 [==============================] - 24s 605us/sample - loss: 0.0536 - accuracy: 0.9846 - val_loss: 0.0784 - val_accuracy: 0.9775\n",
      "Epoch 5/15\n",
      "40000/40000 [==============================] - 24s 599us/sample - loss: 0.0433 - accuracy: 0.9875 - val_loss: 0.0991 - val_accuracy: 0.9750\n",
      "Epoch 6/15\n",
      "40000/40000 [==============================] - 24s 599us/sample - loss: 0.0344 - accuracy: 0.9891 - val_loss: 0.0825 - val_accuracy: 0.9770\n",
      "Epoch 7/15\n",
      "40000/40000 [==============================] - 24s 599us/sample - loss: 0.0355 - accuracy: 0.9885 - val_loss: 0.0470 - val_accuracy: 0.9885\n",
      "Epoch 8/15\n",
      "40000/40000 [==============================] - 24s 597us/sample - loss: 0.0306 - accuracy: 0.9901 - val_loss: 0.0875 - val_accuracy: 0.9785\n",
      "Epoch 9/15\n",
      "40000/40000 [==============================] - 24s 597us/sample - loss: 0.0256 - accuracy: 0.9920 - val_loss: 0.0562 - val_accuracy: 0.9855\n",
      "Epoch 10/15\n",
      "40000/40000 [==============================] - 24s 599us/sample - loss: 0.0219 - accuracy: 0.9930 - val_loss: 0.0676 - val_accuracy: 0.9820\n",
      "Epoch 11/15\n",
      "40000/40000 [==============================] - 24s 595us/sample - loss: 0.0194 - accuracy: 0.9938 - val_loss: 0.0399 - val_accuracy: 0.9890\n",
      "Epoch 12/15\n",
      "40000/40000 [==============================] - 24s 603us/sample - loss: 0.0186 - accuracy: 0.9939 - val_loss: 0.0464 - val_accuracy: 0.9865\n",
      "Epoch 13/15\n",
      "40000/40000 [==============================] - 24s 598us/sample - loss: 0.0144 - accuracy: 0.9952 - val_loss: 0.0440 - val_accuracy: 0.9865\n",
      "Epoch 14/15\n",
      "40000/40000 [==============================] - 24s 598us/sample - loss: 0.0136 - accuracy: 0.9954 - val_loss: 0.0923 - val_accuracy: 0.9765\n",
      "Epoch 15/15\n",
      "40000/40000 [==============================] - 24s 598us/sample - loss: 0.0147 - accuracy: 0.9947 - val_loss: 0.0682 - val_accuracy: 0.9865\n"
     ]
    },
    {
     "data": {
      "text/plain": [
       "<tensorflow.python.keras.callbacks.History at 0x25d25b62438>"
      ]
     },
     "execution_count": 42,
     "metadata": {},
     "output_type": "execute_result"
    }
   ],
   "source": [
    "model.fit(x_train, y_train, epochs=15, batch_size=64, validation_data=(x_val, y_val))"
   ]
  },
  {
   "cell_type": "code",
   "execution_count": 51,
   "metadata": {},
   "outputs": [
    {
     "name": "stdout",
     "output_type": "stream",
     "text": [
      "Train on 40000 samples, validate on 2000 samples\n",
      "Epoch 1/15\n",
      "40000/40000 [==============================] - 48s 1ms/sample - loss: 0.1755 - accuracy: 0.9495 - val_loss: 0.2502 - val_accuracy: 0.9375\n",
      "Epoch 2/15\n",
      "40000/40000 [==============================] - 46s 1ms/sample - loss: 0.0878 - accuracy: 0.9756 - val_loss: 0.1028 - val_accuracy: 0.9730\n",
      "Epoch 3/15\n",
      "40000/40000 [==============================] - 46s 1ms/sample - loss: 0.0630 - accuracy: 0.9826 - val_loss: 0.2026 - val_accuracy: 0.9460\n",
      "Epoch 4/15\n",
      "40000/40000 [==============================] - 46s 1ms/sample - loss: 0.0497 - accuracy: 0.9866 - val_loss: 0.0933 - val_accuracy: 0.9760\n",
      "Epoch 5/15\n",
      "40000/40000 [==============================] - 46s 1ms/sample - loss: 0.0466 - accuracy: 0.9875 - val_loss: 0.0944 - val_accuracy: 0.9735\n",
      "Epoch 6/15\n",
      "40000/40000 [==============================] - 46s 1ms/sample - loss: 0.0398 - accuracy: 0.9882 - val_loss: 0.1009 - val_accuracy: 0.9795\n",
      "Epoch 7/15\n",
      "40000/40000 [==============================] - 46s 1ms/sample - loss: 0.0313 - accuracy: 0.9912 - val_loss: 0.0949 - val_accuracy: 0.9755\n",
      "Epoch 8/15\n",
      "40000/40000 [==============================] - 46s 1ms/sample - loss: 0.0323 - accuracy: 0.9900 - val_loss: 0.0399 - val_accuracy: 0.9895\n",
      "Epoch 9/15\n",
      "40000/40000 [==============================] - 46s 1ms/sample - loss: 0.0266 - accuracy: 0.9923 - val_loss: 0.0626 - val_accuracy: 0.9830\n",
      "Epoch 10/15\n",
      "40000/40000 [==============================] - 46s 1ms/sample - loss: 0.0225 - accuracy: 0.9934 - val_loss: 0.0686 - val_accuracy: 0.9845\n",
      "Epoch 11/15\n",
      "40000/40000 [==============================] - 46s 1ms/sample - loss: 0.0214 - accuracy: 0.9936 - val_loss: 0.0484 - val_accuracy: 0.9865\n",
      "Epoch 12/15\n",
      "40000/40000 [==============================] - 46s 1ms/sample - loss: 0.0188 - accuracy: 0.9941 - val_loss: 0.0657 - val_accuracy: 0.9845\n",
      "Epoch 13/15\n",
      "40000/40000 [==============================] - 46s 1ms/sample - loss: 0.0166 - accuracy: 0.9944 - val_loss: 0.1065 - val_accuracy: 0.9715\n",
      "Epoch 14/15\n",
      "40000/40000 [==============================] - 46s 1ms/sample - loss: 0.0165 - accuracy: 0.9948 - val_loss: 0.0584 - val_accuracy: 0.9840\n",
      "Epoch 15/15\n",
      "40000/40000 [==============================] - 46s 1ms/sample - loss: 0.0135 - accuracy: 0.9951 - val_loss: 0.0657 - val_accuracy: 0.9845\n"
     ]
    },
    {
     "data": {
      "text/plain": [
       "<tensorflow.python.keras.callbacks.History at 0x25d26f92a90>"
      ]
     },
     "execution_count": 51,
     "metadata": {},
     "output_type": "execute_result"
    }
   ],
   "source": [
    "model2.fit(x_train, y_train, epochs=15, batch_size=64, validation_data=(x_val, y_val))"
   ]
  },
  {
   "cell_type": "code",
   "execution_count": 57,
   "metadata": {},
   "outputs": [
    {
     "name": "stdout",
     "output_type": "stream",
     "text": [
      "Train on 40000 samples, validate on 2000 samples\n",
      "Epoch 1/10\n",
      "40000/40000 [==============================] - 54s 1ms/sample - loss: 0.1551 - accuracy: 0.9549 - val_loss: 0.1393 - val_accuracy: 0.9670\n",
      "Epoch 2/10\n",
      "40000/40000 [==============================] - 53s 1ms/sample - loss: 0.0800 - accuracy: 0.9780 - val_loss: 0.0748 - val_accuracy: 0.9830\n",
      "Epoch 3/10\n",
      "40000/40000 [==============================] - 53s 1ms/sample - loss: 0.0577 - accuracy: 0.9847 - val_loss: 0.0667 - val_accuracy: 0.9795\n",
      "Epoch 4/10\n",
      "40000/40000 [==============================] - 53s 1ms/sample - loss: 0.0529 - accuracy: 0.9857 - val_loss: 0.0950 - val_accuracy: 0.9800\n",
      "Epoch 5/10\n",
      "40000/40000 [==============================] - 52s 1ms/sample - loss: 0.0428 - accuracy: 0.9882 - val_loss: 0.1805 - val_accuracy: 0.9460\n",
      "Epoch 6/10\n",
      "40000/40000 [==============================] - 53s 1ms/sample - loss: 0.0360 - accuracy: 0.9898 - val_loss: 0.0465 - val_accuracy: 0.9895\n",
      "Epoch 7/10\n",
      "40000/40000 [==============================] - 54s 1ms/sample - loss: 0.0357 - accuracy: 0.9902 - val_loss: 0.0502 - val_accuracy: 0.9865\n",
      "Epoch 8/10\n",
      "40000/40000 [==============================] - 53s 1ms/sample - loss: 0.0259 - accuracy: 0.9925 - val_loss: 0.0444 - val_accuracy: 0.9890\n",
      "Epoch 9/10\n",
      "40000/40000 [==============================] - 54s 1ms/sample - loss: 0.0207 - accuracy: 0.9943 - val_loss: 0.0464 - val_accuracy: 0.9895\n",
      "Epoch 10/10\n",
      "40000/40000 [==============================] - 52s 1ms/sample - loss: 0.0230 - accuracy: 0.9939 - val_loss: 0.0770 - val_accuracy: 0.9820\n"
     ]
    },
    {
     "data": {
      "text/plain": [
       "<tensorflow.python.keras.callbacks.History at 0x25d4eca9940>"
      ]
     },
     "execution_count": 57,
     "metadata": {},
     "output_type": "execute_result"
    }
   ],
   "source": [
    "model3.fit(x_train, y_train, epochs=10, batch_size=64, validation_data=(x_val, y_val))"
   ]
  },
  {
   "cell_type": "code",
   "execution_count": 43,
   "metadata": {},
   "outputs": [],
   "source": [
    "prediction=model.predict(x_test.astype(float))"
   ]
  },
  {
   "cell_type": "code",
   "execution_count": 44,
   "metadata": {},
   "outputs": [
    {
     "data": {
      "text/plain": [
       "array([1.2150906e-11, 1.4869506e-17, 1.0000000e+00, 1.2496015e-10,\n",
       "       5.3824264e-16, 4.2247170e-15, 8.5330716e-19, 3.3897047e-12,\n",
       "       1.9689440e-16, 8.9077703e-15], dtype=float32)"
      ]
     },
     "execution_count": 44,
     "metadata": {},
     "output_type": "execute_result"
    }
   ],
   "source": [
    "prediction[0]"
   ]
  },
  {
   "cell_type": "code",
   "execution_count": 46,
   "metadata": {},
   "outputs": [],
   "source": [
    "pd.DataFrame(prediction).to_csv('200130_submission.csv', index=False)"
   ]
  },
  {
   "cell_type": "code",
   "execution_count": 65,
   "metadata": {},
   "outputs": [
    {
     "data": {
      "text/plain": [
       "<matplotlib.image.AxesImage at 0x25d4ff58a90>"
      ]
     },
     "execution_count": 65,
     "metadata": {},
     "output_type": "execute_result"
    },
    {
     "data": {
      "image/png": "[encoded data removed]",
      "text/plain": [
       "<Figure size 432x288 with 1 Axes>"
      ]
     },
     "metadata": {
      "needs_background": "light"
     },
     "output_type": "display_data"
    }
   ],
   "source": [
    "plt.imshow(x_test[49].reshape(28,28))"
   ]
  },
  {
   "cell_type": "code",
   "execution_count": 53,
   "metadata": {},
   "outputs": [],
   "source": [
    "prediction2=model2.predict(x_test.astype(float))\n",
    "pd.DataFrame(prediction2).to_csv('200130_submission_2.csv', index=False)"
   ]
  },
  {
   "cell_type": "code",
   "execution_count": 58,
   "metadata": {},
   "outputs": [],
   "source": [
    "prediction3=model3.predict(x_test.astype(float))\n",
    "pd.DataFrame(prediction3).to_csv('200130_submission_3.csv', index=False)"
   ]
  },
  {
   "cell_type": "code",
   "execution_count": 59,
   "metadata": {},
   "outputs": [],
   "source": [
    "model_json=model.to_json()\n",
    "with open(\"200130_model.json\", \"w\") as json_file:\n",
    "    json_file.write(model_json)\n",
    "\n",
    "model_json=model2.to_json()\n",
    "with open(\"200130_model2.json\", \"w\") as json_file:\n",
    "    json_file.write(model_json)\n",
    "\n",
    "model_json=model3.to_json()\n",
    "with open(\"200130_model3.json\", \"w\") as json_file:\n",
    "    json_file.write(model_json)"
   ]
  },
  {
   "cell_type": "code",
   "execution_count": 60,
   "metadata": {},
   "outputs": [],
   "source": [
    "model.save_weights(\"200130_model.h5\")\n",
    "model2.save_weights(\"200130_model2.h5\")\n",
    "model3.save_weights(\"200130_model3.h5\")"
   ]
  },
  {
   "cell_type": "code",
   "execution_count": null,
   "metadata": {},
   "outputs": [],
   "source": []
  }
 ],
 "metadata": {
  "kernelspec": {
   "display_name": "Python 3",
   "language": "python",
   "name": "python3"
  },
  "language_info": {
   "codemirror_mode": {
    "name": "ipython",
    "version": 3
   },
   "file_extension": ".py",
   "mimetype": "text/x-python",
   "name": "python",
   "nbconvert_exporter": "python",
   "pygments_lexer": "ipython3",
   "version": "3.7.3"
  }
 },
 "nbformat": 4,
 "nbformat_minor": 2
}
