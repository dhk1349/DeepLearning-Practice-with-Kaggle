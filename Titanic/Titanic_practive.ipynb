{
 "cells": [
  {
   "cell_type": "code",
   "execution_count": 1,
   "metadata": {},
   "outputs": [],
   "source": [
    "import seaborn as sns\n",
    "import matplotlib.pyplot as plt\n",
    "%matplotlib inline"
   ]
  },
  {
   "cell_type": "code",
   "execution_count": 2,
   "metadata": {},
   "outputs": [],
   "source": [
    "import math"
   ]
  },
  {
   "cell_type": "code",
   "execution_count": 3,
   "metadata": {},
   "outputs": [],
   "source": [
    "import pandas as pd\n",
    "import numpy as np\n",
    "import random as rand"
   ]
  },
  {
   "cell_type": "code",
   "execution_count": 4,
   "metadata": {},
   "outputs": [
    {
     "name": "stderr",
     "output_type": "stream",
     "text": [
      "Using TensorFlow backend.\n"
     ]
    }
   ],
   "source": [
    "from keras import models\n",
    "from keras import layers"
   ]
  },
  {
   "cell_type": "code",
   "execution_count": 5,
   "metadata": {},
   "outputs": [],
   "source": [
    "train_df=pd.read_csv(\"train.csv\")\n",
    "test_df=pd.read_csv(\"test.csv\")"
   ]
  },
  {
   "cell_type": "code",
   "execution_count": 6,
   "metadata": {},
   "outputs": [],
   "source": [
    "test_df=test_df.drop(['Name', 'Ticket', 'PassengerId', 'Cabin', 'Embarked'], axis=1)\n",
    "train_df=train_df.drop(['Name','Ticket','PassengerId', 'Cabin','Embarked'], axis=1)"
   ]
  },
  {
   "cell_type": "code",
   "execution_count": 7,
   "metadata": {},
   "outputs": [
    {
     "data": {
      "text/html": [
       "<div>\n",
       "<style scoped>\n",
       "    .dataframe tbody tr th:only-of-type {\n",
       "        vertical-align: middle;\n",
       "    }\n",
       "\n",
       "    .dataframe tbody tr th {\n",
       "        vertical-align: top;\n",
       "    }\n",
       "\n",
       "    .dataframe thead th {\n",
       "        text-align: right;\n",
       "    }\n",
       "</style>\n",
       "<table border=\"1\" class=\"dataframe\">\n",
       "  <thead>\n",
       "    <tr style=\"text-align: right;\">\n",
       "      <th></th>\n",
       "      <th>Pclass</th>\n",
       "      <th>Sex</th>\n",
       "      <th>Age</th>\n",
       "      <th>SibSp</th>\n",
       "      <th>Parch</th>\n",
       "      <th>Fare</th>\n",
       "    </tr>\n",
       "  </thead>\n",
       "  <tbody>\n",
       "    <tr>\n",
       "      <td>0</td>\n",
       "      <td>3</td>\n",
       "      <td>male</td>\n",
       "      <td>34.5</td>\n",
       "      <td>0</td>\n",
       "      <td>0</td>\n",
       "      <td>7.8292</td>\n",
       "    </tr>\n",
       "    <tr>\n",
       "      <td>1</td>\n",
       "      <td>3</td>\n",
       "      <td>female</td>\n",
       "      <td>47.0</td>\n",
       "      <td>1</td>\n",
       "      <td>0</td>\n",
       "      <td>7.0000</td>\n",
       "    </tr>\n",
       "    <tr>\n",
       "      <td>2</td>\n",
       "      <td>2</td>\n",
       "      <td>male</td>\n",
       "      <td>62.0</td>\n",
       "      <td>0</td>\n",
       "      <td>0</td>\n",
       "      <td>9.6875</td>\n",
       "    </tr>\n",
       "    <tr>\n",
       "      <td>3</td>\n",
       "      <td>3</td>\n",
       "      <td>male</td>\n",
       "      <td>27.0</td>\n",
       "      <td>0</td>\n",
       "      <td>0</td>\n",
       "      <td>8.6625</td>\n",
       "    </tr>\n",
       "    <tr>\n",
       "      <td>4</td>\n",
       "      <td>3</td>\n",
       "      <td>female</td>\n",
       "      <td>22.0</td>\n",
       "      <td>1</td>\n",
       "      <td>1</td>\n",
       "      <td>12.2875</td>\n",
       "    </tr>\n",
       "    <tr>\n",
       "      <td>...</td>\n",
       "      <td>...</td>\n",
       "      <td>...</td>\n",
       "      <td>...</td>\n",
       "      <td>...</td>\n",
       "      <td>...</td>\n",
       "      <td>...</td>\n",
       "    </tr>\n",
       "    <tr>\n",
       "      <td>413</td>\n",
       "      <td>3</td>\n",
       "      <td>male</td>\n",
       "      <td>NaN</td>\n",
       "      <td>0</td>\n",
       "      <td>0</td>\n",
       "      <td>8.0500</td>\n",
       "    </tr>\n",
       "    <tr>\n",
       "      <td>414</td>\n",
       "      <td>1</td>\n",
       "      <td>female</td>\n",
       "      <td>39.0</td>\n",
       "      <td>0</td>\n",
       "      <td>0</td>\n",
       "      <td>108.9000</td>\n",
       "    </tr>\n",
       "    <tr>\n",
       "      <td>415</td>\n",
       "      <td>3</td>\n",
       "      <td>male</td>\n",
       "      <td>38.5</td>\n",
       "      <td>0</td>\n",
       "      <td>0</td>\n",
       "      <td>7.2500</td>\n",
       "    </tr>\n",
       "    <tr>\n",
       "      <td>416</td>\n",
       "      <td>3</td>\n",
       "      <td>male</td>\n",
       "      <td>NaN</td>\n",
       "      <td>0</td>\n",
       "      <td>0</td>\n",
       "      <td>8.0500</td>\n",
       "    </tr>\n",
       "    <tr>\n",
       "      <td>417</td>\n",
       "      <td>3</td>\n",
       "      <td>male</td>\n",
       "      <td>NaN</td>\n",
       "      <td>1</td>\n",
       "      <td>1</td>\n",
       "      <td>22.3583</td>\n",
       "    </tr>\n",
       "  </tbody>\n",
       "</table>\n",
       "<p>418 rows × 6 columns</p>\n",
       "</div>"
      ],
      "text/plain": [
       "     Pclass     Sex   Age  SibSp  Parch      Fare\n",
       "0         3    male  34.5      0      0    7.8292\n",
       "1         3  female  47.0      1      0    7.0000\n",
       "2         2    male  62.0      0      0    9.6875\n",
       "3         3    male  27.0      0      0    8.6625\n",
       "4         3  female  22.0      1      1   12.2875\n",
       "..      ...     ...   ...    ...    ...       ...\n",
       "413       3    male   NaN      0      0    8.0500\n",
       "414       1  female  39.0      0      0  108.9000\n",
       "415       3    male  38.5      0      0    7.2500\n",
       "416       3    male   NaN      0      0    8.0500\n",
       "417       3    male   NaN      1      1   22.3583\n",
       "\n",
       "[418 rows x 6 columns]"
      ]
     },
     "execution_count": 7,
     "metadata": {},
     "output_type": "execute_result"
    }
   ],
   "source": [
    "test_df"
   ]
  },
  {
   "cell_type": "code",
   "execution_count": 8,
   "metadata": {},
   "outputs": [
    {
     "data": {
      "text/plain": [
       "<seaborn.axisgrid.FacetGrid at 0x1a4701c890>"
      ]
     },
     "execution_count": 8,
     "metadata": {},
     "output_type": "execute_result"
    },
    {
     "data": {
      "image/png": "[encoded data removed]",
      "text/plain": [
       "<Figure size 224x216 with 1 Axes>"
      ]
     },
     "metadata": {
      "needs_background": "light"
     },
     "output_type": "display_data"
    }
   ],
   "source": [
    "grid=sns.FacetGrid(train_df)\n",
    "grid.map(plt.hist, 'Fare')\n",
    "grid.add_legend()"
   ]
  },
  {
   "cell_type": "code",
   "execution_count": 9,
   "metadata": {},
   "outputs": [
    {
     "data": {
      "text/plain": [
       "<seaborn.axisgrid.FacetGrid at 0x1a46f38b90>"
      ]
     },
     "execution_count": 9,
     "metadata": {},
     "output_type": "execute_result"
    },
    {
     "data": {
      "image/png": "[encoded data removed]",
      "text/plain": [
       "<Figure size 224x216 with 1 Axes>"
      ]
     },
     "metadata": {
      "needs_background": "light"
     },
     "output_type": "display_data"
    }
   ],
   "source": [
    "grid=sns.FacetGrid(train_df)\n",
    "grid.map(plt.hist, 'SibSp')\n",
    "grid.add_legend()"
   ]
  },
  {
   "cell_type": "code",
   "execution_count": 10,
   "metadata": {},
   "outputs": [
    {
     "data": {
      "text/plain": [
       "<seaborn.axisgrid.FacetGrid at 0x1a475cf1d0>"
      ]
     },
     "execution_count": 10,
     "metadata": {},
     "output_type": "execute_result"
    },
    {
     "data": {
      "image/png": "[encoded data removed]",
      "text/plain": [
       "<Figure size 224x216 with 1 Axes>"
      ]
     },
     "metadata": {
      "needs_background": "light"
     },
     "output_type": "display_data"
    }
   ],
   "source": [
    "grid=sns.FacetGrid(train_df)\n",
    "grid.map(plt.hist, 'Parch')\n",
    "grid.add_legend()"
   ]
  },
  {
   "cell_type": "code",
   "execution_count": 11,
   "metadata": {},
   "outputs": [
    {
     "data": {
      "text/html": [
       "<div>\n",
       "<style scoped>\n",
       "    .dataframe tbody tr th:only-of-type {\n",
       "        vertical-align: middle;\n",
       "    }\n",
       "\n",
       "    .dataframe tbody tr th {\n",
       "        vertical-align: top;\n",
       "    }\n",
       "\n",
       "    .dataframe thead th {\n",
       "        text-align: right;\n",
       "    }\n",
       "</style>\n",
       "<table border=\"1\" class=\"dataframe\">\n",
       "  <thead>\n",
       "    <tr style=\"text-align: right;\">\n",
       "      <th></th>\n",
       "      <th>Sex</th>\n",
       "      <th>Survived</th>\n",
       "    </tr>\n",
       "  </thead>\n",
       "  <tbody>\n",
       "    <tr>\n",
       "      <td>0</td>\n",
       "      <td>female</td>\n",
       "      <td>0.742038</td>\n",
       "    </tr>\n",
       "    <tr>\n",
       "      <td>1</td>\n",
       "      <td>male</td>\n",
       "      <td>0.188908</td>\n",
       "    </tr>\n",
       "  </tbody>\n",
       "</table>\n",
       "</div>"
      ],
      "text/plain": [
       "      Sex  Survived\n",
       "0  female  0.742038\n",
       "1    male  0.188908"
      ]
     },
     "execution_count": 11,
     "metadata": {},
     "output_type": "execute_result"
    }
   ],
   "source": [
    "train_df[[\"Sex\", \"Survived\"]].groupby(['Sex'], as_index=False).mean().sort_values(by='Survived', ascending=False)\n",
    "#train_df[[\"Cabin\", \"Survived\"]].groupby(['Cabin'], as_index=False).mean().sort_values(by='Survived', ascending=False)"
   ]
  },
  {
   "cell_type": "code",
   "execution_count": 12,
   "metadata": {},
   "outputs": [],
   "source": [
    "train_df['Age']=train_df['Age'].fillna(train_df['Age'].mean())\n",
    "train_df['Fare']=train_df['Fare'].fillna(train_df['Fare'].mean())\n",
    "test_df['Age']=test_df['Age'].fillna(train_df['Age'].mean())\n",
    "test_df['Fare']=test_df['Fare'].fillna(train_df['Fare'].mean())"
   ]
  },
  {
   "cell_type": "code",
   "execution_count": 13,
   "metadata": {},
   "outputs": [
    {
     "data": {
      "text/plain": [
       "((891, 7), (418, 6))"
      ]
     },
     "execution_count": 13,
     "metadata": {},
     "output_type": "execute_result"
    }
   ],
   "source": [
    "train_df.shape, test_df.shape"
   ]
  },
  {
   "cell_type": "code",
   "execution_count": 14,
   "metadata": {},
   "outputs": [],
   "source": [
    "combine=[train_df, test_df]"
   ]
  },
  {
   "cell_type": "code",
   "execution_count": 15,
   "metadata": {},
   "outputs": [
    {
     "data": {
      "text/html": [
       "<div>\n",
       "<style scoped>\n",
       "    .dataframe tbody tr th:only-of-type {\n",
       "        vertical-align: middle;\n",
       "    }\n",
       "\n",
       "    .dataframe tbody tr th {\n",
       "        vertical-align: top;\n",
       "    }\n",
       "\n",
       "    .dataframe thead th {\n",
       "        text-align: right;\n",
       "    }\n",
       "</style>\n",
       "<table border=\"1\" class=\"dataframe\">\n",
       "  <thead>\n",
       "    <tr style=\"text-align: right;\">\n",
       "      <th></th>\n",
       "      <th>Survived</th>\n",
       "      <th>Pclass</th>\n",
       "      <th>Sex</th>\n",
       "      <th>Age</th>\n",
       "      <th>SibSp</th>\n",
       "      <th>Parch</th>\n",
       "      <th>Fare</th>\n",
       "    </tr>\n",
       "  </thead>\n",
       "  <tbody>\n",
       "    <tr>\n",
       "      <td>0</td>\n",
       "      <td>0</td>\n",
       "      <td>3</td>\n",
       "      <td>0</td>\n",
       "      <td>22.000000</td>\n",
       "      <td>1</td>\n",
       "      <td>0</td>\n",
       "      <td>22.0</td>\n",
       "    </tr>\n",
       "    <tr>\n",
       "      <td>1</td>\n",
       "      <td>1</td>\n",
       "      <td>1</td>\n",
       "      <td>1</td>\n",
       "      <td>38.000000</td>\n",
       "      <td>1</td>\n",
       "      <td>0</td>\n",
       "      <td>38.0</td>\n",
       "    </tr>\n",
       "    <tr>\n",
       "      <td>2</td>\n",
       "      <td>1</td>\n",
       "      <td>3</td>\n",
       "      <td>1</td>\n",
       "      <td>26.000000</td>\n",
       "      <td>0</td>\n",
       "      <td>0</td>\n",
       "      <td>26.0</td>\n",
       "    </tr>\n",
       "    <tr>\n",
       "      <td>3</td>\n",
       "      <td>1</td>\n",
       "      <td>1</td>\n",
       "      <td>1</td>\n",
       "      <td>35.000000</td>\n",
       "      <td>1</td>\n",
       "      <td>0</td>\n",
       "      <td>35.0</td>\n",
       "    </tr>\n",
       "    <tr>\n",
       "      <td>4</td>\n",
       "      <td>0</td>\n",
       "      <td>3</td>\n",
       "      <td>0</td>\n",
       "      <td>35.000000</td>\n",
       "      <td>0</td>\n",
       "      <td>0</td>\n",
       "      <td>35.0</td>\n",
       "    </tr>\n",
       "    <tr>\n",
       "      <td>...</td>\n",
       "      <td>...</td>\n",
       "      <td>...</td>\n",
       "      <td>...</td>\n",
       "      <td>...</td>\n",
       "      <td>...</td>\n",
       "      <td>...</td>\n",
       "      <td>...</td>\n",
       "    </tr>\n",
       "    <tr>\n",
       "      <td>886</td>\n",
       "      <td>0</td>\n",
       "      <td>2</td>\n",
       "      <td>0</td>\n",
       "      <td>27.000000</td>\n",
       "      <td>0</td>\n",
       "      <td>0</td>\n",
       "      <td>27.0</td>\n",
       "    </tr>\n",
       "    <tr>\n",
       "      <td>887</td>\n",
       "      <td>1</td>\n",
       "      <td>1</td>\n",
       "      <td>1</td>\n",
       "      <td>19.000000</td>\n",
       "      <td>0</td>\n",
       "      <td>0</td>\n",
       "      <td>19.0</td>\n",
       "    </tr>\n",
       "    <tr>\n",
       "      <td>888</td>\n",
       "      <td>0</td>\n",
       "      <td>3</td>\n",
       "      <td>1</td>\n",
       "      <td>29.699118</td>\n",
       "      <td>1</td>\n",
       "      <td>2</td>\n",
       "      <td>29.0</td>\n",
       "    </tr>\n",
       "    <tr>\n",
       "      <td>889</td>\n",
       "      <td>1</td>\n",
       "      <td>1</td>\n",
       "      <td>0</td>\n",
       "      <td>26.000000</td>\n",
       "      <td>0</td>\n",
       "      <td>0</td>\n",
       "      <td>26.0</td>\n",
       "    </tr>\n",
       "    <tr>\n",
       "      <td>890</td>\n",
       "      <td>0</td>\n",
       "      <td>3</td>\n",
       "      <td>0</td>\n",
       "      <td>32.000000</td>\n",
       "      <td>0</td>\n",
       "      <td>0</td>\n",
       "      <td>32.0</td>\n",
       "    </tr>\n",
       "  </tbody>\n",
       "</table>\n",
       "<p>891 rows × 7 columns</p>\n",
       "</div>"
      ],
      "text/plain": [
       "     Survived  Pclass  Sex        Age  SibSp  Parch  Fare\n",
       "0           0       3    0  22.000000      1      0  22.0\n",
       "1           1       1    1  38.000000      1      0  38.0\n",
       "2           1       3    1  26.000000      0      0  26.0\n",
       "3           1       1    1  35.000000      1      0  35.0\n",
       "4           0       3    0  35.000000      0      0  35.0\n",
       "..        ...     ...  ...        ...    ...    ...   ...\n",
       "886         0       2    0  27.000000      0      0  27.0\n",
       "887         1       1    1  19.000000      0      0  19.0\n",
       "888         0       3    1  29.699118      1      2  29.0\n",
       "889         1       1    0  26.000000      0      0  26.0\n",
       "890         0       3    0  32.000000      0      0  32.0\n",
       "\n",
       "[891 rows x 7 columns]"
      ]
     },
     "execution_count": 15,
     "metadata": {},
     "output_type": "execute_result"
    }
   ],
   "source": [
    "for dataset in combine:\n",
    "    dataset['Age']=dataset['Age'].map(lambda x: x/10*10)\n",
    "    dataset['Fare']=dataset['Age'].map(lambda x: int(x)/10*10)\n",
    "    dataset['Sex']=dataset['Sex'].map({'male':0, 'female':1}).astype(int)\n",
    "    #dataset['Cabin']=dataset['Cabin'].fillna('None')\n",
    "    #dataset['Cabin']=dataset['Cabin'].map(lambda x: x[0])\n",
    "train_df"
   ]
  },
  {
   "cell_type": "code",
   "execution_count": 16,
   "metadata": {},
   "outputs": [
    {
     "data": {
      "text/html": [
       "<div>\n",
       "<style scoped>\n",
       "    .dataframe tbody tr th:only-of-type {\n",
       "        vertical-align: middle;\n",
       "    }\n",
       "\n",
       "    .dataframe tbody tr th {\n",
       "        vertical-align: top;\n",
       "    }\n",
       "\n",
       "    .dataframe thead th {\n",
       "        text-align: right;\n",
       "    }\n",
       "</style>\n",
       "<table border=\"1\" class=\"dataframe\">\n",
       "  <thead>\n",
       "    <tr style=\"text-align: right;\">\n",
       "      <th></th>\n",
       "      <th>Pclass</th>\n",
       "      <th>Sex</th>\n",
       "      <th>Age</th>\n",
       "      <th>SibSp</th>\n",
       "      <th>Parch</th>\n",
       "      <th>Fare</th>\n",
       "    </tr>\n",
       "  </thead>\n",
       "  <tbody>\n",
       "    <tr>\n",
       "      <td>0</td>\n",
       "      <td>3</td>\n",
       "      <td>0</td>\n",
       "      <td>34.500000</td>\n",
       "      <td>0</td>\n",
       "      <td>0</td>\n",
       "      <td>34.0</td>\n",
       "    </tr>\n",
       "    <tr>\n",
       "      <td>1</td>\n",
       "      <td>3</td>\n",
       "      <td>1</td>\n",
       "      <td>47.000000</td>\n",
       "      <td>1</td>\n",
       "      <td>0</td>\n",
       "      <td>47.0</td>\n",
       "    </tr>\n",
       "    <tr>\n",
       "      <td>2</td>\n",
       "      <td>2</td>\n",
       "      <td>0</td>\n",
       "      <td>62.000000</td>\n",
       "      <td>0</td>\n",
       "      <td>0</td>\n",
       "      <td>62.0</td>\n",
       "    </tr>\n",
       "    <tr>\n",
       "      <td>3</td>\n",
       "      <td>3</td>\n",
       "      <td>0</td>\n",
       "      <td>27.000000</td>\n",
       "      <td>0</td>\n",
       "      <td>0</td>\n",
       "      <td>27.0</td>\n",
       "    </tr>\n",
       "    <tr>\n",
       "      <td>4</td>\n",
       "      <td>3</td>\n",
       "      <td>1</td>\n",
       "      <td>22.000000</td>\n",
       "      <td>1</td>\n",
       "      <td>1</td>\n",
       "      <td>22.0</td>\n",
       "    </tr>\n",
       "    <tr>\n",
       "      <td>...</td>\n",
       "      <td>...</td>\n",
       "      <td>...</td>\n",
       "      <td>...</td>\n",
       "      <td>...</td>\n",
       "      <td>...</td>\n",
       "      <td>...</td>\n",
       "    </tr>\n",
       "    <tr>\n",
       "      <td>413</td>\n",
       "      <td>3</td>\n",
       "      <td>0</td>\n",
       "      <td>29.699118</td>\n",
       "      <td>0</td>\n",
       "      <td>0</td>\n",
       "      <td>29.0</td>\n",
       "    </tr>\n",
       "    <tr>\n",
       "      <td>414</td>\n",
       "      <td>1</td>\n",
       "      <td>1</td>\n",
       "      <td>39.000000</td>\n",
       "      <td>0</td>\n",
       "      <td>0</td>\n",
       "      <td>39.0</td>\n",
       "    </tr>\n",
       "    <tr>\n",
       "      <td>415</td>\n",
       "      <td>3</td>\n",
       "      <td>0</td>\n",
       "      <td>38.500000</td>\n",
       "      <td>0</td>\n",
       "      <td>0</td>\n",
       "      <td>38.0</td>\n",
       "    </tr>\n",
       "    <tr>\n",
       "      <td>416</td>\n",
       "      <td>3</td>\n",
       "      <td>0</td>\n",
       "      <td>29.699118</td>\n",
       "      <td>0</td>\n",
       "      <td>0</td>\n",
       "      <td>29.0</td>\n",
       "    </tr>\n",
       "    <tr>\n",
       "      <td>417</td>\n",
       "      <td>3</td>\n",
       "      <td>0</td>\n",
       "      <td>29.699118</td>\n",
       "      <td>1</td>\n",
       "      <td>1</td>\n",
       "      <td>29.0</td>\n",
       "    </tr>\n",
       "  </tbody>\n",
       "</table>\n",
       "<p>418 rows × 6 columns</p>\n",
       "</div>"
      ],
      "text/plain": [
       "     Pclass  Sex        Age  SibSp  Parch  Fare\n",
       "0         3    0  34.500000      0      0  34.0\n",
       "1         3    1  47.000000      1      0  47.0\n",
       "2         2    0  62.000000      0      0  62.0\n",
       "3         3    0  27.000000      0      0  27.0\n",
       "4         3    1  22.000000      1      1  22.0\n",
       "..      ...  ...        ...    ...    ...   ...\n",
       "413       3    0  29.699118      0      0  29.0\n",
       "414       1    1  39.000000      0      0  39.0\n",
       "415       3    0  38.500000      0      0  38.0\n",
       "416       3    0  29.699118      0      0  29.0\n",
       "417       3    0  29.699118      1      1  29.0\n",
       "\n",
       "[418 rows x 6 columns]"
      ]
     },
     "execution_count": 16,
     "metadata": {},
     "output_type": "execute_result"
    }
   ],
   "source": [
    "test_df"
   ]
  },
  {
   "cell_type": "code",
   "execution_count": 17,
   "metadata": {},
   "outputs": [],
   "source": [
    "x_sample=train_df.drop(['Survived'], axis=1).values\n",
    "y_sample=train_df['Survived'].values\n",
    "\n",
    "x_train=x_sample[:800]\n",
    "y_train=y_sample[:800]\n",
    "\n",
    "x_val=x_sample[800:]\n",
    "y_val=y_sample[800:]\n",
    "\n",
    "x_test=test_df.values\n",
    "y_test=pd.read_csv('gender_submission.csv').drop(['PassengerId'], axis=1).values"
   ]
  },
  {
   "cell_type": "code",
   "execution_count": 18,
   "metadata": {},
   "outputs": [
    {
     "data": {
      "text/plain": [
       "((800, 6), (800,), (418, 6), (418, 1))"
      ]
     },
     "execution_count": 18,
     "metadata": {},
     "output_type": "execute_result"
    }
   ],
   "source": [
    "x_train.shape, y_train.shape, x_test.shape, y_test.shape"
   ]
  },
  {
   "cell_type": "code",
   "execution_count": 22,
   "metadata": {},
   "outputs": [],
   "source": [
    "def reluModel():\n",
    "    model=models.Sequential()\n",
    "    model.add(layers.Dense(64, activation='relu', input_shape=(6,)))\n",
    "    model.add(layers.Dense(64, activation='relu'))\n",
    "    model.add(layers.Dense(1, activation='sigmoid'))\n",
    "    model.compile(loss='binary_crossentropy', optimizer='adam', metrics=['accuracy'])\n",
    "    return model"
   ]
  },
  {
   "cell_type": "code",
   "execution_count": 23,
   "metadata": {},
   "outputs": [
    {
     "name": "stdout",
     "output_type": "stream",
     "text": [
      "_________________________________________________________________\n",
      "Layer (type)                 Output Shape              Param #   \n",
      "=================================================================\n",
      "dense_4 (Dense)              (None, 64)                448       \n",
      "_________________________________________________________________\n",
      "dense_5 (Dense)              (None, 64)                4160      \n",
      "_________________________________________________________________\n",
      "dense_6 (Dense)              (None, 1)                 65        \n",
      "=================================================================\n",
      "Total params: 4,673\n",
      "Trainable params: 4,673\n",
      "Non-trainable params: 0\n",
      "_________________________________________________________________\n"
     ]
    }
   ],
   "source": [
    "model=reluModel()\n",
    "model.summary()"
   ]
  },
  {
   "cell_type": "code",
   "execution_count": 24,
   "metadata": {},
   "outputs": [
    {
     "name": "stdout",
     "output_type": "stream",
     "text": [
      "WARNING:tensorflow:From /Users/donghoon/opt/anaconda3/lib/python3.7/site-packages/keras/backend/tensorflow_backend.py:986: The name tf.assign_add is deprecated. Please use tf.compat.v1.assign_add instead.\n",
      "\n",
      "WARNING:tensorflow:From /Users/donghoon/opt/anaconda3/lib/python3.7/site-packages/keras/backend/tensorflow_backend.py:973: The name tf.assign is deprecated. Please use tf.compat.v1.assign instead.\n",
      "\n",
      "WARNING:tensorflow:From /Users/donghoon/opt/anaconda3/lib/python3.7/site-packages/keras/backend/tensorflow_backend.py:2741: The name tf.Session is deprecated. Please use tf.compat.v1.Session instead.\n",
      "\n",
      "Train on 800 samples, validate on 91 samples\n",
      "Epoch 1/100\n",
      "WARNING:tensorflow:From /Users/donghoon/opt/anaconda3/lib/python3.7/site-packages/keras/backend/tensorflow_backend.py:174: The name tf.get_default_session is deprecated. Please use tf.compat.v1.get_default_session instead.\n",
      "\n",
      "WARNING:tensorflow:From /Users/donghoon/opt/anaconda3/lib/python3.7/site-packages/keras/backend/tensorflow_backend.py:181: The name tf.ConfigProto is deprecated. Please use tf.compat.v1.ConfigProto instead.\n",
      "\n",
      "WARNING:tensorflow:From /Users/donghoon/opt/anaconda3/lib/python3.7/site-packages/keras/backend/tensorflow_backend.py:190: The name tf.global_variables is deprecated. Please use tf.compat.v1.global_variables instead.\n",
      "\n",
      "WARNING:tensorflow:From /Users/donghoon/opt/anaconda3/lib/python3.7/site-packages/keras/backend/tensorflow_backend.py:199: The name tf.is_variable_initialized is deprecated. Please use tf.compat.v1.is_variable_initialized instead.\n",
      "\n",
      "WARNING:tensorflow:From /Users/donghoon/opt/anaconda3/lib/python3.7/site-packages/keras/backend/tensorflow_backend.py:206: The name tf.variables_initializer is deprecated. Please use tf.compat.v1.variables_initializer instead.\n",
      "\n",
      "800/800 [==============================] - 2s 2ms/step - loss: 0.7504 - acc: 0.5775 - val_loss: 0.6473 - val_acc: 0.6923\n",
      "Epoch 2/100\n",
      "800/800 [==============================] - 0s 92us/step - loss: 0.6774 - acc: 0.6300 - val_loss: 0.6702 - val_acc: 0.5275\n",
      "Epoch 3/100\n",
      "800/800 [==============================] - 0s 84us/step - loss: 0.6293 - acc: 0.6763 - val_loss: 0.6005 - val_acc: 0.6703\n",
      "Epoch 4/100\n",
      "800/800 [==============================] - 0s 82us/step - loss: 0.6075 - acc: 0.6900 - val_loss: 0.5736 - val_acc: 0.6703\n",
      "Epoch 5/100\n",
      "800/800 [==============================] - 0s 83us/step - loss: 0.5723 - acc: 0.7213 - val_loss: 0.5448 - val_acc: 0.6703\n",
      "Epoch 6/100\n",
      "800/800 [==============================] - 0s 82us/step - loss: 0.5468 - acc: 0.7325 - val_loss: 0.4833 - val_acc: 0.8571\n",
      "Epoch 7/100\n",
      "800/800 [==============================] - 0s 82us/step - loss: 0.5260 - acc: 0.7600 - val_loss: 0.4609 - val_acc: 0.8352\n",
      "Epoch 8/100\n",
      "800/800 [==============================] - 0s 82us/step - loss: 0.5001 - acc: 0.7900 - val_loss: 0.4665 - val_acc: 0.8242\n",
      "Epoch 9/100\n",
      "800/800 [==============================] - 0s 82us/step - loss: 0.4842 - acc: 0.8013 - val_loss: 0.4333 - val_acc: 0.8352\n",
      "Epoch 10/100\n",
      "800/800 [==============================] - 0s 86us/step - loss: 0.5113 - acc: 0.7575 - val_loss: 0.4700 - val_acc: 0.7582\n",
      "Epoch 11/100\n",
      "800/800 [==============================] - 0s 83us/step - loss: 0.4584 - acc: 0.8137 - val_loss: 0.4011 - val_acc: 0.8571\n",
      "Epoch 12/100\n",
      "800/800 [==============================] - 0s 84us/step - loss: 0.4550 - acc: 0.8050 - val_loss: 0.4045 - val_acc: 0.8352\n",
      "Epoch 13/100\n",
      "800/800 [==============================] - 0s 95us/step - loss: 0.4645 - acc: 0.8013 - val_loss: 0.4263 - val_acc: 0.8681\n",
      "Epoch 14/100\n",
      "800/800 [==============================] - 0s 87us/step - loss: 0.4612 - acc: 0.8113 - val_loss: 0.4028 - val_acc: 0.8352\n",
      "Epoch 15/100\n",
      "800/800 [==============================] - 0s 86us/step - loss: 0.4643 - acc: 0.8050 - val_loss: 0.3864 - val_acc: 0.8571\n",
      "Epoch 16/100\n",
      "800/800 [==============================] - 0s 83us/step - loss: 0.4542 - acc: 0.7975 - val_loss: 0.3841 - val_acc: 0.8462\n",
      "Epoch 17/100\n",
      "800/800 [==============================] - 0s 83us/step - loss: 0.4535 - acc: 0.8087 - val_loss: 0.3884 - val_acc: 0.8462\n",
      "Epoch 18/100\n",
      "800/800 [==============================] - 0s 85us/step - loss: 0.4488 - acc: 0.8062 - val_loss: 0.3840 - val_acc: 0.8462\n",
      "Epoch 19/100\n",
      "800/800 [==============================] - 0s 84us/step - loss: 0.4316 - acc: 0.8225 - val_loss: 0.3792 - val_acc: 0.8462\n",
      "Epoch 20/100\n",
      "800/800 [==============================] - 0s 81us/step - loss: 0.4325 - acc: 0.8163 - val_loss: 0.3895 - val_acc: 0.8462\n",
      "Epoch 21/100\n",
      "800/800 [==============================] - 0s 81us/step - loss: 0.4274 - acc: 0.8225 - val_loss: 0.3979 - val_acc: 0.8352\n",
      "Epoch 22/100\n",
      "800/800 [==============================] - 0s 81us/step - loss: 0.4454 - acc: 0.8087 - val_loss: 0.3766 - val_acc: 0.8462\n",
      "Epoch 23/100\n",
      "800/800 [==============================] - 0s 82us/step - loss: 0.5130 - acc: 0.7712 - val_loss: 0.4794 - val_acc: 0.7912\n",
      "Epoch 24/100\n",
      "800/800 [==============================] - 0s 81us/step - loss: 0.4463 - acc: 0.8137 - val_loss: 0.3848 - val_acc: 0.8462\n",
      "Epoch 25/100\n",
      "800/800 [==============================] - 0s 82us/step - loss: 0.4323 - acc: 0.8263 - val_loss: 0.3797 - val_acc: 0.8462\n",
      "Epoch 26/100\n",
      "800/800 [==============================] - 0s 82us/step - loss: 0.4521 - acc: 0.8150 - val_loss: 0.3939 - val_acc: 0.8352\n",
      "Epoch 27/100\n",
      "800/800 [==============================] - 0s 83us/step - loss: 0.4352 - acc: 0.8075 - val_loss: 0.3764 - val_acc: 0.8462\n",
      "Epoch 28/100\n",
      "800/800 [==============================] - 0s 89us/step - loss: 0.4256 - acc: 0.8137 - val_loss: 0.3758 - val_acc: 0.8462\n",
      "Epoch 29/100\n",
      "800/800 [==============================] - 0s 87us/step - loss: 0.4426 - acc: 0.8150 - val_loss: 0.3810 - val_acc: 0.8462\n",
      "Epoch 30/100\n",
      "800/800 [==============================] - 0s 85us/step - loss: 0.4430 - acc: 0.8175 - val_loss: 0.3744 - val_acc: 0.8352\n",
      "Epoch 31/100\n",
      "800/800 [==============================] - 0s 85us/step - loss: 0.4214 - acc: 0.8275 - val_loss: 0.4305 - val_acc: 0.8132\n",
      "Epoch 32/100\n",
      "800/800 [==============================] - 0s 84us/step - loss: 0.4305 - acc: 0.8163 - val_loss: 0.3733 - val_acc: 0.8462\n",
      "Epoch 33/100\n",
      "800/800 [==============================] - 0s 81us/step - loss: 0.4257 - acc: 0.8188 - val_loss: 0.3807 - val_acc: 0.8462\n",
      "Epoch 34/100\n",
      "800/800 [==============================] - 0s 81us/step - loss: 0.4224 - acc: 0.8175 - val_loss: 0.3958 - val_acc: 0.8132\n",
      "Epoch 35/100\n",
      "800/800 [==============================] - 0s 83us/step - loss: 0.4450 - acc: 0.8125 - val_loss: 0.3722 - val_acc: 0.8462\n",
      "Epoch 36/100\n",
      "800/800 [==============================] - 0s 82us/step - loss: 0.4227 - acc: 0.8212 - val_loss: 0.3731 - val_acc: 0.8352\n",
      "Epoch 37/100\n",
      "800/800 [==============================] - 0s 82us/step - loss: 0.4328 - acc: 0.8150 - val_loss: 0.3763 - val_acc: 0.8462\n",
      "Epoch 38/100\n",
      "800/800 [==============================] - 0s 80us/step - loss: 0.4316 - acc: 0.8113 - val_loss: 0.3979 - val_acc: 0.8242\n",
      "Epoch 39/100\n",
      "800/800 [==============================] - 0s 84us/step - loss: 0.4489 - acc: 0.8100 - val_loss: 0.3834 - val_acc: 0.8462\n",
      "Epoch 40/100\n",
      "800/800 [==============================] - 0s 84us/step - loss: 0.4272 - acc: 0.8237 - val_loss: 0.4101 - val_acc: 0.8242\n",
      "Epoch 41/100\n",
      "800/800 [==============================] - 0s 84us/step - loss: 0.4276 - acc: 0.8225 - val_loss: 0.3690 - val_acc: 0.8352\n",
      "Epoch 42/100\n",
      "800/800 [==============================] - 0s 84us/step - loss: 0.4200 - acc: 0.8163 - val_loss: 0.3851 - val_acc: 0.8352\n",
      "Epoch 43/100\n",
      "800/800 [==============================] - 0s 82us/step - loss: 0.4311 - acc: 0.8125 - val_loss: 0.4660 - val_acc: 0.8132\n",
      "Epoch 44/100\n",
      "800/800 [==============================] - 0s 86us/step - loss: 0.4356 - acc: 0.8163 - val_loss: 0.3941 - val_acc: 0.8352\n",
      "Epoch 45/100\n",
      "800/800 [==============================] - 0s 82us/step - loss: 0.4374 - acc: 0.8025 - val_loss: 0.3737 - val_acc: 0.8571\n",
      "Epoch 46/100\n",
      "800/800 [==============================] - 0s 82us/step - loss: 0.4624 - acc: 0.7950 - val_loss: 0.3878 - val_acc: 0.8352\n",
      "Epoch 47/100\n",
      "800/800 [==============================] - 0s 80us/step - loss: 0.4218 - acc: 0.8287 - val_loss: 0.3750 - val_acc: 0.8462\n",
      "Epoch 48/100\n",
      "800/800 [==============================] - 0s 81us/step - loss: 0.4247 - acc: 0.8163 - val_loss: 0.3708 - val_acc: 0.8352\n"
     ]
    },
    {
     "name": "stdout",
     "output_type": "stream",
     "text": [
      "Epoch 49/100\n",
      "800/800 [==============================] - 0s 82us/step - loss: 0.4220 - acc: 0.8175 - val_loss: 0.3798 - val_acc: 0.8462\n",
      "Epoch 50/100\n",
      "800/800 [==============================] - 0s 82us/step - loss: 0.4252 - acc: 0.8200 - val_loss: 0.3918 - val_acc: 0.8242\n",
      "Epoch 51/100\n",
      "800/800 [==============================] - 0s 84us/step - loss: 0.4234 - acc: 0.8100 - val_loss: 0.3739 - val_acc: 0.8352\n",
      "Epoch 52/100\n",
      "800/800 [==============================] - 0s 85us/step - loss: 0.4236 - acc: 0.8225 - val_loss: 0.4022 - val_acc: 0.8352\n",
      "Epoch 53/100\n",
      "800/800 [==============================] - 0s 84us/step - loss: 0.4238 - acc: 0.8200 - val_loss: 0.3697 - val_acc: 0.8462\n",
      "Epoch 54/100\n",
      "800/800 [==============================] - 0s 85us/step - loss: 0.4343 - acc: 0.8137 - val_loss: 0.4095 - val_acc: 0.8242\n",
      "Epoch 55/100\n",
      "800/800 [==============================] - 0s 84us/step - loss: 0.4392 - acc: 0.8163 - val_loss: 0.3817 - val_acc: 0.8571\n",
      "Epoch 56/100\n",
      "800/800 [==============================] - 0s 84us/step - loss: 0.4249 - acc: 0.8188 - val_loss: 0.3648 - val_acc: 0.8462\n",
      "Epoch 57/100\n",
      "800/800 [==============================] - 0s 83us/step - loss: 0.4174 - acc: 0.8188 - val_loss: 0.3858 - val_acc: 0.8352\n",
      "Epoch 58/100\n",
      "800/800 [==============================] - 0s 85us/step - loss: 0.4288 - acc: 0.8200 - val_loss: 0.3612 - val_acc: 0.8462\n",
      "Epoch 59/100\n",
      "800/800 [==============================] - 0s 82us/step - loss: 0.4338 - acc: 0.8175 - val_loss: 0.3713 - val_acc: 0.8462\n",
      "Epoch 60/100\n",
      "800/800 [==============================] - 0s 84us/step - loss: 0.4278 - acc: 0.8113 - val_loss: 0.3619 - val_acc: 0.8462\n",
      "Epoch 61/100\n",
      "800/800 [==============================] - 0s 81us/step - loss: 0.4395 - acc: 0.7937 - val_loss: 0.3789 - val_acc: 0.8571\n",
      "Epoch 62/100\n",
      "800/800 [==============================] - 0s 85us/step - loss: 0.4322 - acc: 0.8175 - val_loss: 0.3618 - val_acc: 0.8462\n",
      "Epoch 63/100\n",
      "800/800 [==============================] - 0s 85us/step - loss: 0.4169 - acc: 0.8263 - val_loss: 0.3607 - val_acc: 0.8462\n",
      "Epoch 64/100\n",
      "800/800 [==============================] - 0s 84us/step - loss: 0.4124 - acc: 0.8200 - val_loss: 0.3860 - val_acc: 0.8352\n",
      "Epoch 65/100\n",
      "800/800 [==============================] - 0s 83us/step - loss: 0.4546 - acc: 0.7987 - val_loss: 0.4600 - val_acc: 0.8242\n",
      "Epoch 66/100\n",
      "800/800 [==============================] - 0s 82us/step - loss: 0.4286 - acc: 0.8137 - val_loss: 0.3642 - val_acc: 0.8462\n",
      "Epoch 67/100\n",
      "800/800 [==============================] - 0s 81us/step - loss: 0.4212 - acc: 0.8188 - val_loss: 0.3619 - val_acc: 0.8462\n",
      "Epoch 68/100\n",
      "800/800 [==============================] - 0s 79us/step - loss: 0.4140 - acc: 0.8225 - val_loss: 0.3929 - val_acc: 0.8242\n",
      "Epoch 69/100\n",
      "800/800 [==============================] - 0s 81us/step - loss: 0.4221 - acc: 0.8163 - val_loss: 0.3604 - val_acc: 0.8462\n",
      "Epoch 70/100\n",
      "800/800 [==============================] - 0s 80us/step - loss: 0.4087 - acc: 0.8212 - val_loss: 0.3809 - val_acc: 0.8242\n",
      "Epoch 71/100\n",
      "800/800 [==============================] - 0s 85us/step - loss: 0.4139 - acc: 0.8263 - val_loss: 0.3743 - val_acc: 0.8571\n",
      "Epoch 72/100\n",
      "800/800 [==============================] - 0s 85us/step - loss: 0.4109 - acc: 0.8225 - val_loss: 0.3629 - val_acc: 0.8462\n",
      "Epoch 73/100\n",
      "800/800 [==============================] - 0s 84us/step - loss: 0.4146 - acc: 0.8250 - val_loss: 0.3585 - val_acc: 0.8462\n",
      "Epoch 74/100\n",
      "800/800 [==============================] - 0s 83us/step - loss: 0.4188 - acc: 0.8237 - val_loss: 0.3728 - val_acc: 0.8571\n",
      "Epoch 75/100\n",
      "800/800 [==============================] - 0s 82us/step - loss: 0.4166 - acc: 0.8275 - val_loss: 0.3592 - val_acc: 0.8462\n",
      "Epoch 76/100\n",
      "800/800 [==============================] - 0s 80us/step - loss: 0.4104 - acc: 0.8287 - val_loss: 0.3590 - val_acc: 0.8462\n",
      "Epoch 77/100\n",
      "800/800 [==============================] - 0s 79us/step - loss: 0.4166 - acc: 0.8250 - val_loss: 0.3700 - val_acc: 0.8352\n",
      "Epoch 78/100\n",
      "800/800 [==============================] - 0s 78us/step - loss: 0.4188 - acc: 0.8350 - val_loss: 0.3724 - val_acc: 0.8571\n",
      "Epoch 79/100\n",
      "800/800 [==============================] - 0s 82us/step - loss: 0.4096 - acc: 0.8225 - val_loss: 0.3933 - val_acc: 0.8132\n",
      "Epoch 80/100\n",
      "800/800 [==============================] - 0s 85us/step - loss: 0.4142 - acc: 0.8250 - val_loss: 0.3731 - val_acc: 0.8242\n",
      "Epoch 81/100\n",
      "800/800 [==============================] - 0s 90us/step - loss: 0.4181 - acc: 0.8237 - val_loss: 0.4536 - val_acc: 0.8242\n",
      "Epoch 82/100\n",
      "800/800 [==============================] - 0s 85us/step - loss: 0.4237 - acc: 0.8300 - val_loss: 0.3618 - val_acc: 0.8462\n",
      "Epoch 83/100\n",
      "800/800 [==============================] - 0s 85us/step - loss: 0.4204 - acc: 0.8188 - val_loss: 0.3955 - val_acc: 0.8132\n",
      "Epoch 84/100\n",
      "800/800 [==============================] - 0s 84us/step - loss: 0.4369 - acc: 0.8125 - val_loss: 0.3601 - val_acc: 0.8462\n",
      "Epoch 85/100\n",
      "800/800 [==============================] - 0s 83us/step - loss: 0.4185 - acc: 0.8225 - val_loss: 0.3598 - val_acc: 0.8462\n",
      "Epoch 86/100\n",
      "800/800 [==============================] - 0s 85us/step - loss: 0.4047 - acc: 0.8250 - val_loss: 0.3824 - val_acc: 0.8571\n",
      "Epoch 87/100\n",
      "800/800 [==============================] - 0s 85us/step - loss: 0.4072 - acc: 0.8263 - val_loss: 0.3626 - val_acc: 0.8571\n",
      "Epoch 88/100\n",
      "800/800 [==============================] - 0s 85us/step - loss: 0.4034 - acc: 0.8125 - val_loss: 0.3665 - val_acc: 0.8571\n",
      "Epoch 89/100\n",
      "800/800 [==============================] - 0s 85us/step - loss: 0.4069 - acc: 0.8263 - val_loss: 0.3590 - val_acc: 0.8571\n",
      "Epoch 90/100\n",
      "800/800 [==============================] - 0s 84us/step - loss: 0.4089 - acc: 0.8337 - val_loss: 0.4051 - val_acc: 0.8242\n",
      "Epoch 91/100\n",
      "800/800 [==============================] - 0s 84us/step - loss: 0.4085 - acc: 0.8313 - val_loss: 0.3576 - val_acc: 0.8571\n",
      "Epoch 92/100\n",
      "800/800 [==============================] - 0s 86us/step - loss: 0.4228 - acc: 0.8113 - val_loss: 0.3997 - val_acc: 0.8462\n",
      "Epoch 93/100\n",
      "800/800 [==============================] - 0s 86us/step - loss: 0.4320 - acc: 0.8175 - val_loss: 0.3643 - val_acc: 0.8462\n",
      "Epoch 94/100\n",
      "800/800 [==============================] - 0s 83us/step - loss: 0.4122 - acc: 0.8237 - val_loss: 0.3772 - val_acc: 0.8462\n",
      "Epoch 95/100\n",
      "800/800 [==============================] - 0s 81us/step - loss: 0.4097 - acc: 0.8250 - val_loss: 0.3578 - val_acc: 0.8571\n",
      "Epoch 96/100\n",
      "800/800 [==============================] - 0s 80us/step - loss: 0.4048 - acc: 0.8275 - val_loss: 0.3816 - val_acc: 0.8571\n",
      "Epoch 97/100\n",
      "800/800 [==============================] - 0s 81us/step - loss: 0.4466 - acc: 0.8313 - val_loss: 0.3787 - val_acc: 0.8571\n",
      "Epoch 98/100\n",
      "800/800 [==============================] - 0s 81us/step - loss: 0.4178 - acc: 0.8100 - val_loss: 0.3639 - val_acc: 0.8352\n",
      "Epoch 99/100\n",
      "800/800 [==============================] - 0s 82us/step - loss: 0.4193 - acc: 0.8200 - val_loss: 0.3624 - val_acc: 0.8462\n",
      "Epoch 100/100\n",
      "800/800 [==============================] - 0s 87us/step - loss: 0.4083 - acc: 0.8250 - val_loss: 0.3791 - val_acc: 0.8571\n"
     ]
    }
   ],
   "source": [
    "hist=model.fit(x_train, y_train, epochs=100, validation_data=(x_val, y_val))"
   ]
  },
  {
   "cell_type": "code",
   "execution_count": 29,
   "metadata": {},
   "outputs": [
    {
     "name": "stdout",
     "output_type": "stream",
     "text": [
      "418/418 [==============================] - 0s 39us/step\n"
     ]
    }
   ],
   "source": [
    "test_score, test_score=model.evaluate(x_test, y_test)"
   ]
  },
  {
   "cell_type": "code",
   "execution_count": 30,
   "metadata": {},
   "outputs": [
    {
     "data": {
      "text/plain": [
       "0.9401913875598086"
      ]
     },
     "execution_count": 30,
     "metadata": {},
     "output_type": "execute_result"
    }
   ],
   "source": [
    "test_score"
   ]
  },
  {
   "cell_type": "code",
   "execution_count": null,
   "metadata": {},
   "outputs": [],
   "source": []
  }
 ],
 "metadata": {
  "kernelspec": {
   "display_name": "Python 3",
   "language": "python",
   "name": "python3"
  },
  "language_info": {
   "codemirror_mode": {
    "name": "ipython",
    "version": 3
   },
   "file_extension": ".py",
   "mimetype": "text/x-python",
   "name": "python",
   "nbconvert_exporter": "python",
   "pygments_lexer": "ipython3",
   "version": "3.7.4"
  }
 },
 "nbformat": 4,
 "nbformat_minor": 2
}
